{
 "cells": [
  {
   "cell_type": "code",
   "execution_count": 5,
   "id": "f8740ed5-2ff7-4ae6-a895-32736cc9ba8f",
   "metadata": {},
   "outputs": [],
   "source": [
    "import pandas as pd\n",
    "import numpy as np\n",
    "import joblib\n",
    "from sklearn.preprocessing import LabelEncoder"
   ]
  },
  {
   "cell_type": "code",
   "execution_count": 6,
   "id": "323be34d-de8d-424a-b066-df8dae44cc84",
   "metadata": {},
   "outputs": [],
   "source": [
    "# Load the trained model and LabelEncoder\n",
    "xgb_model = joblib.load('xgb_model.pkl')\n",
    "label_encoder = LabelEncoder()\n",
    "label_encoder.classes_ = np.load('label_classes.npy', allow_pickle=True)  # Ensure to save this earlier during training\n"
   ]
  },
  {
   "cell_type": "code",
   "execution_count": 11,
   "id": "404e8d1c-4c0d-44a5-b849-927a9ffd8642",
   "metadata": {},
   "outputs": [],
   "source": [
    "# Function to preprocess the new traffic data\n",
    "def preprocess_data(file_path):\n",
    "    # Load the new traffic file\n",
    "    column_names = [\n",
    "        'ts', 'uid', 'id.orig_h', 'id.orig_p', 'id.resp_h', 'id.resp_p', 'proto', \n",
    "        'service', 'duration', 'orig_bytes', 'resp_bytes', 'conn_state', 'local_orig', \n",
    "        'local_resp', 'missed_bytes', 'history', 'orig_pkts', 'orig_ip_bytes', \n",
    "        'resp_pkts', 'resp_ip_bytes', 'tunnel_parents'\n",
    "    ]\n",
    "    df = pd.read_table(file_path, skiprows=10, names=column_names, low_memory=False)\n",
    "    df.drop(df.tail(1).index, inplace=True)  # Drop the last row if it's a footer\n",
    "    original_data = df.copy()  # Keep a copy of the original data\n",
    "    \n",
    "    # Normalize numerical features (if not normalized already)\n",
    "    numerical_features = ['duration', 'orig_bytes', 'resp_bytes', 'missed_bytes', 'orig_pkts', 'resp_pkts']\n",
    "    for feature in numerical_features:\n",
    "        if feature in df.columns:\n",
    "            # Convert to numeric, coercing errors (non-numeric values will become NaN)\n",
    "            df[feature] = pd.to_numeric(df[feature], errors='coerce')\n",
    "            # Fill NaN with the column mean to handle missing or invalid values\n",
    "            df[feature].fillna(df[feature].mean(), inplace=True)\n",
    "            # Standardize the values\n",
    "            df[feature] = (df[feature] - df[feature].mean()) / (df[feature].std() + 1e-10)\n",
    "    \n",
    "    # One-hot encode categorical features\n",
    "    categorical_features = ['proto', 'conn_state', 'service']\n",
    "    df = pd.get_dummies(df, columns=categorical_features, drop_first=False)\n",
    "    \n",
    "    # Align with the training feature set\n",
    "    training_features = ['duration', 'orig_bytes', 'resp_bytes', 'missed_bytes', 'orig_pkts', 'resp_pkts',\n",
    "                         'proto_icmp', 'proto_tcp', 'proto_udp',\n",
    "                         'conn_state_OTH', 'conn_state_REJ', 'conn_state_RSTO', 'conn_state_RSTOS0',\n",
    "                         'conn_state_RSTR', 'conn_state_S0', 'conn_state_S1', 'conn_state_S2', \n",
    "                         'conn_state_S3', 'conn_state_SF',\n",
    "                         'service_dns', 'service_http', 'service_irc', 'service_ssh']\n",
    "    \n",
    "    # Add missing columns with zeros\n",
    "    for col in training_features:\n",
    "        if col not in df.columns:\n",
    "            df[col] = 0\n",
    "\n",
    "    # Ensure column order matches\n",
    "    df = df[training_features]\n",
    "    return df, original_data\n"
   ]
  },
  {
   "cell_type": "code",
   "execution_count": 12,
   "id": "6c5ea8ff-ae98-41fc-9d06-e7554e8a1895",
   "metadata": {},
   "outputs": [],
   "source": [
    "# Predict and save results\n",
    "def predict_and_save(file_path, output_path):\n",
    "    # Preprocess the new data\n",
    "    preprocessed_data, original_data = preprocess_data(file_path)\n",
    "    \n",
    "    # Predict labels\n",
    "    predictions = xgb_model.predict(preprocessed_data)\n",
    "    \n",
    "    # Decode predictions\n",
    "    decoded_predictions = label_encoder.inverse_transform(predictions)\n",
    "    \n",
    "    # Add predictions to the original data\n",
    "    original_data['predicted_label'] = decoded_predictions\n",
    "    \n",
    "    # Add a new column for attacker's IP\n",
    "    original_data['attacker_ip'] = original_data.apply(\n",
    "        lambda row: row['id.orig_h'] if row['predicted_label'] != 'Benign' else None, axis=1\n",
    "    )\n",
    "    \n",
    "    # Save results\n",
    "    original_data.to_csv(output_path, index=False)\n",
    "    print(f\"Predictions saved to {output_path}\")\n"
   ]
  },
  {
   "cell_type": "code",
   "execution_count": 13,
   "id": "5cf1ab0a-88eb-4a5f-b82a-bf0123b8f484",
   "metadata": {},
   "outputs": [],
   "source": [
    "# File paths\n",
    "input_file = 'C:/Users/kscna/Desktop/tra_ind_conn.log.txt'  # Replace with actual input file path\n",
    "output_file = 'D:/Major Project/edge computing/predicted.csv'  # Replace with desired output file path"
   ]
  },
  {
   "cell_type": "code",
   "execution_count": 14,
   "id": "34d289c2-fdef-44fd-a2ca-838d27b367e8",
   "metadata": {},
   "outputs": [
    {
     "name": "stdout",
     "output_type": "stream",
     "text": [
      "Predictions saved to D:/Major Project/edge computing/predicted.csv\n"
     ]
    },
    {
     "name": "stderr",
     "output_type": "stream",
     "text": [
      "C:\\Users\\kscna\\AppData\\Local\\Temp\\ipykernel_19044\\1766668159.py:21: FutureWarning: A value is trying to be set on a copy of a DataFrame or Series through chained assignment using an inplace method.\n",
      "The behavior will change in pandas 3.0. This inplace method will never work because the intermediate object on which we are setting values always behaves as a copy.\n",
      "\n",
      "For example, when doing 'df[col].method(value, inplace=True)', try using 'df.method({col: value}, inplace=True)' or df[col] = df[col].method(value) instead, to perform the operation inplace on the original object.\n",
      "\n",
      "\n",
      "  df[feature].fillna(df[feature].mean(), inplace=True)\n"
     ]
    }
   ],
   "source": [
    "# Run prediction\n",
    "predict_and_save(input_file, output_file)"
   ]
  },
  {
   "cell_type": "code",
   "execution_count": null,
   "id": "3f4f4765-328c-4c99-b29e-e567201cef0b",
   "metadata": {},
   "outputs": [],
   "source": []
  }
 ],
 "metadata": {
  "kernelspec": {
   "display_name": "Python 3 (ipykernel)",
   "language": "python",
   "name": "python3"
  },
  "language_info": {
   "codemirror_mode": {
    "name": "ipython",
    "version": 3
   },
   "file_extension": ".py",
   "mimetype": "text/x-python",
   "name": "python",
   "nbconvert_exporter": "python",
   "pygments_lexer": "ipython3",
   "version": "3.11.9"
  }
 },
 "nbformat": 4,
 "nbformat_minor": 5
}
